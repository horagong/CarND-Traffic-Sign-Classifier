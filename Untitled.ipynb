{
 "cells": [
  {
   "cell_type": "code",
   "execution_count": 15,
   "metadata": {
    "collapsed": false
   },
   "outputs": [
    {
     "name": "stdout",
     "output_type": "stream",
     "text": [
      "X_new shape= (5, 32, 32, 3)\n"
     ]
    }
   ],
   "source": [
    "import matplotlib.pyplot as plt\n",
    "import numpy as np\n",
    "import os\n",
    "\n",
    "test_image_dir = \"data/\"\n",
    "test_images = os.listdir(\"data/\")\n",
    "X_new = []\n",
    "y_new = []\n",
    "\n",
    "fig = plt.figure(figsize=(10,10))\n",
    "i = 1\n",
    "for image in test_images:\n",
    "    if not image.endswith('.png'):\n",
    "        continue\n",
    "\n",
    "    img = plt.imread(test_image_dir + image)[:,:,:3]\n",
    "    X_new.append(img)\n",
    "    ax = fig.add_subplot(1,10,i)\n",
    "    ax.imshow(img)\n",
    "    \n",
    "    sign = int(image[:image.find('.')])\n",
    "    y_new.append(sign)\n",
    "    ax.set_title(sign)\n",
    "    i += 1\n",
    "\n",
    "X_new = np.array(X_new)\n",
    "print('X_new shape=', X_new.shape)\n"
   ]
  },
  {
   "cell_type": "code",
   "execution_count": 48,
   "metadata": {
    "collapsed": false
   },
   "outputs": [
    {
     "name": "stdout",
     "output_type": "stream",
     "text": [
      "[0, 11, 2, 3, 4] [0.2325581, 0.02325581, 0.02325581, 0.02325581, 0.02325581]\n",
      "[0, 1, 2, 31, 4] [0.02325581, 0.2325581, 0.02325581, 0.02325581, 0.02325581]\n",
      "[0, 1, 22, 3, 4] [0.02325581, 0.02325581, 0.2325581, 0.02325581, 0.02325581]\n",
      "[0, 1, 2, 3, 4] [0.02325581, 0.02325581, 0.02325581, 0.2325581, 0.02325581]\n",
      "[0, 1, 2, 3, 4] [0.02325581, 0.02325581, 0.02325581, 0.02325581, 0.2325581]\n"
     ]
    }
   ],
   "source": [
    "from matplotlib import style\n",
    "\n",
    "top_k_indices = [[0, 11, 2, 3, 4], [0, 1, 2, 31, 4],\n",
    "                 [0, 1, 22, 3, 4], [0, 1, 2, 3, 4], [0, 1, 2, 3, 4] ]\n",
    "top_k_values = [[ 0.2325581,  0.02325581,  0.02325581,  0.02325581,  0.02325581], \n",
    "                [ 0.02325581,  0.2325581,  0.02325581,  0.02325581,  0.02325581],\n",
    "                [ 0.02325581,  0.02325581,  0.2325581,  0.02325581,  0.02325581],\n",
    "                [ 0.02325581,  0.02325581,  0.02325581,  0.2325581,  0.02325581],\n",
    "                [ 0.02325581,  0.02325581,  0.02325581,  0.02325581,  0.2325581]]\n",
    "\n",
    "fig = plt.figure(figsize=(12,15))\n",
    "#style.use('ggplot')\n",
    "for image_num in range(5):\n",
    "    \n",
    "    #ax_img = fig.add_subplot(5,2,image_num*2+1)\n",
    "    #ax_img.imshow(X_new[image_num])\n",
    "    #ax_img.set_title(y_new[image_num])\n",
    "\n",
    "    ax_top_k = fig.add_subplot(5,2,image_num*2+2)\n",
    "    rects = ax_top_k.barh([1,2,3,4,5], top_k_values[image_num], align='center')\n",
    "    ax_top_k.set_yticklabels(['a', 'b', 'c', 'd', 'e'])\n",
    "    \n",
    "    for i, rect in enumerate(rects):\n",
    "        ax_top_k.text(0.95 * rect.get_width(), rect.get_y() + rect.get_height() / 2.0, \n",
    "                '11', ha='right', va='center')\n",
    "    print(str(top_k_indices[image_num]), top_k_values[image_num])\n"
   ]
  },
  {
   "cell_type": "code",
   "execution_count": null,
   "metadata": {
    "collapsed": true
   },
   "outputs": [],
   "source": []
  }
 ],
 "metadata": {
  "kernelspec": {
   "display_name": "Python 3",
   "language": "python",
   "name": "python3"
  },
  "language_info": {
   "codemirror_mode": {
    "name": "ipython",
    "version": 3
   },
   "file_extension": ".py",
   "mimetype": "text/x-python",
   "name": "python",
   "nbconvert_exporter": "python",
   "pygments_lexer": "ipython3",
   "version": "3.5.2"
  },
  "widgets": {
   "state": {},
   "version": "1.1.2"
  }
 },
 "nbformat": 4,
 "nbformat_minor": 2
}
